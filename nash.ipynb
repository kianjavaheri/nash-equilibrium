{
 "cells": [
  {
   "cell_type": "code",
   "execution_count": 1,
   "metadata": {},
   "outputs": [],
   "source": [
    "import numpy as np\n",
    "import nashpy as nash"
   ]
  },
  {
   "cell_type": "markdown",
   "metadata": {},
   "source": [
    "https://towardsdatascience.com/game-theory-in-python-with-nashpy-cb5dceab262c\n",
    "https://www.youtube.com/watch?v=dorUO5Z\n",
    "PFtE&ab_channel=GameTheoryOnline"
   ]
  },
  {
   "cell_type": "code",
   "execution_count": 2,
   "metadata": {},
   "outputs": [
    {
     "name": "stdout",
     "output_type": "stream",
     "text": [
      "Bi matrix game with payoff matrices:\n",
      "\n",
      "Row player:\n",
      "[[2 0]\n",
      " [4 2]]\n",
      "\n",
      "Column player:\n",
      "[[4 2]\n",
      " [2 0]]\n",
      "(array([0., 1.]), array([1., 0.]))\n"
     ]
    }
   ],
   "source": [
    "A = np.array([[2,0],[4,2]]) # A is the row player\n",
    "B = np.array([[4,2],[2,0]]) # B is the column player\n",
    "game1 = nash.Game(A,B)\n",
    "print(game1)\n",
    "equilibria = game1.support_enumeration()\n",
    "for eq in equilibria:\n",
    "    print(eq)"
   ]
  },
  {
   "cell_type": "code",
   "execution_count": 3,
   "metadata": {},
   "outputs": [
    {
     "name": "stdout",
     "output_type": "stream",
     "text": [
      "Bi matrix game with payoff matrices:\n",
      "\n",
      "Row player:\n",
      "[[4 0]\n",
      " [0 2]]\n",
      "\n",
      "Column player:\n",
      "[[2 0]\n",
      " [0 4]]\n",
      "(array([1., 0.]), array([1., 0.]))\n",
      "(array([0., 1.]), array([0., 1.]))\n",
      "(array([0.66666667, 0.33333333]), array([0.33333333, 0.66666667]))\n"
     ]
    }
   ],
   "source": [
    "A = np.array([[4,0],[0,2]]) # A is the row player\n",
    "B = np.array([[2,0],[0,4]]) # B is the column player\n",
    "game2 = nash.Game(A,B)\n",
    "print(game2)\n",
    "equilibria = game2.support_enumeration()\n",
    "for eq in equilibria:\n",
    "    print(eq)\n"
   ]
  },
  {
   "cell_type": "code",
   "execution_count": 4,
   "metadata": {},
   "outputs": [
    {
     "data": {
      "text/plain": [
       "array([1.3266, 1.3266])"
      ]
     },
     "execution_count": 4,
     "metadata": {},
     "output_type": "execute_result"
    }
   ],
   "source": [
    "sigma_r = np.array([.67,.33])\n",
    "sigma_c = np.array([.33,.67])\n",
    "pd = nash.Game(A, B)\n",
    "pd[sigma_r, sigma_c]"
   ]
  }
 ],
 "metadata": {
  "kernelspec": {
   "display_name": "Python 3.9.13 64-bit",
   "language": "python",
   "name": "python3"
  },
  "language_info": {
   "codemirror_mode": {
    "name": "ipython",
    "version": 3
   },
   "file_extension": ".py",
   "mimetype": "text/x-python",
   "name": "python",
   "nbconvert_exporter": "python",
   "pygments_lexer": "ipython3",
   "version": "3.9.13"
  },
  "orig_nbformat": 4,
  "vscode": {
   "interpreter": {
    "hash": "b0fa6594d8f4cbf19f97940f81e996739fb7646882a419484c72d19e05852a7e"
   }
  }
 },
 "nbformat": 4,
 "nbformat_minor": 2
}
